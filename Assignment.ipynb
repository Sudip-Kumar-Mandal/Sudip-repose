{
  "nbformat": 4,
  "nbformat_minor": 0,
  "metadata": {
    "colab": {
      "name": "Assignment.ipynb",
      "provenance": []
    },
    "kernelspec": {
      "name": "python3",
      "display_name": "Python 3"
    },
    "language_info": {
      "name": "python"
    }
  },
  "cells": [
    {
      "cell_type": "code",
      "metadata": {
        "colab": {
          "base_uri": "https://localhost:8080/"
        },
        "id": "FSYVHkhPiMMx",
        "outputId": "9a52804f-43f2-49ac-87ac-9112bcd04765"
      },
      "source": [
        "h=int(input(\"enter the height: \"))\n",
        "if h<3000:\n",
        "  print(\"You are welcome to land\")\n",
        "elif h>3000 and h<6000:\n",
        "  print(\"Come down to 3000 and open landing landing gear\")\n",
        "elif h>6000:\n",
        "  print(\"go around\")"
      ],
      "execution_count": 2,
      "outputs": [
        {
          "output_type": "stream",
          "text": [
            "enter the height: 2500\n",
            "You are welcome to land\n"
          ],
          "name": "stdout"
        }
      ]
    },
    {
      "cell_type": "code",
      "metadata": {
        "id": "xBRQ3DsbiShA"
      },
      "source": [
        ""
      ],
      "execution_count": 2,
      "outputs": []
    }
  ]
}